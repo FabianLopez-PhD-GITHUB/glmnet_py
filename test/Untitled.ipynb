{
 "cells": [
  {
   "cell_type": "code",
   "execution_count": 3,
   "metadata": {
    "collapsed": true
   },
   "outputs": [],
   "source": [
    "import sys\n",
    "import scipy\n",
    "import importlib\n",
    "import matplotlib.pyplot as plt\n",
    "import glmnet_python\n",
    "from glmnet import glmnet\n",
    "import numpy as np\n",
    "# parameters\n",
    "baseDataDir= '../data/'\n"
   ]
  },
  {
   "cell_type": "code",
   "execution_count": 4,
   "metadata": {
    "collapsed": false
   },
   "outputs": [],
   "source": [
    "\n",
    "# load data\n",
    "X = scipy.loadtxt(baseDataDir + 'PoissonExampleX.dat', dtype = scipy.float64, delimiter = ',')\n",
    "y = scipy.loadtxt(baseDataDir + 'PoissonExampleY.dat', dtype = scipy.float64, delimiter = ',')\n",
    "# call glmnet\n",
    "lambdas = np.array([1600, 400, 200] + list(range(100, 0, -1)))\n",
    "# fit = glmnet(x=X.copy(), y=y.copy(), family='poisson', offset=self.df[\"logTPM_scaled\"], alpha=0, lambdau=lambdas)\n",
    "fit = glmnet(x = X.copy(), y = y.copy(), family = 'poisson', alpha=0, lambdau=lambdas)\n"
   ]
  },
  {
   "cell_type": "code",
   "execution_count": 5,
   "metadata": {
    "collapsed": false
   },
   "outputs": [
    {
     "data": {
      "text/plain": [
       "array([  1.60000000e+03,   4.00000000e+02,   2.00000000e+02,\n",
       "         1.00000000e+02,   9.90000000e+01,   9.80000000e+01,\n",
       "         9.70000000e+01,   9.60000000e+01,   9.50000000e+01,\n",
       "         9.40000000e+01,   9.30000000e+01,   9.20000000e+01,\n",
       "         9.10000000e+01,   9.00000000e+01,   8.90000000e+01,\n",
       "         8.80000000e+01,   8.70000000e+01,   8.60000000e+01,\n",
       "         8.50000000e+01,   8.40000000e+01,   8.30000000e+01,\n",
       "         8.20000000e+01,   8.10000000e+01,   8.00000000e+01,\n",
       "         7.90000000e+01,   7.80000000e+01,   7.70000000e+01,\n",
       "         7.60000000e+01,   7.50000000e+01,   7.40000000e+01,\n",
       "         7.30000000e+01,   7.20000000e+01,   7.10000000e+01,\n",
       "         7.00000000e+01,   6.90000000e+01,   6.80000000e+01,\n",
       "         6.70000000e+01,   6.60000000e+01,   6.50000000e+01,\n",
       "         6.40000000e+01,   6.30000000e+01,   6.20000000e+01,\n",
       "         6.10000000e+01,   6.00000000e+01,   5.90000000e+01,\n",
       "         5.80000000e+01,   5.70000000e+01,   5.60000000e+01,\n",
       "         5.50000000e+01,   5.40000000e+01,   5.30000000e+01,\n",
       "         5.20000000e+01,   5.10000000e+01,   5.00000000e+01,\n",
       "         4.90000000e+01,   4.80000000e+01,   4.70000000e+01,\n",
       "         4.60000000e+01,   4.50000000e+01,   4.40000000e+01,\n",
       "         4.30000000e+01,   4.20000000e+01,   4.10000000e+01,\n",
       "         4.00000000e+01,   3.90000000e+01,   3.80000000e+01,\n",
       "         3.70000000e+01,   3.60000000e+01,   3.50000000e+01,\n",
       "         3.40000000e+01,   3.30000000e+01,   3.20000000e+01,\n",
       "         3.10000000e+01,   3.00000000e+01,   2.90000000e+01,\n",
       "         2.80000000e+01,   2.70000000e+01,   2.60000000e+01,\n",
       "         2.50000000e+01,   2.40000000e+01,   2.30000000e+01,\n",
       "         2.20000000e+01,   2.10000000e+01,   2.00000000e+01,\n",
       "         1.90000000e+01,   1.80000000e+01,   1.70000000e+01,\n",
       "         1.60000000e+01,   1.50000000e+01,   1.40000000e+01,\n",
       "         1.30000000e+01,   1.20000000e+01,   1.10000000e+01,\n",
       "         1.00000000e+01,   9.00000000e+00,   8.00000000e+00,\n",
       "         7.00000000e+00,   6.00000000e+00,   5.00000000e+00,\n",
       "         4.00000000e+00,   3.00000000e+00,   2.00000000e+00,\n",
       "         1.00000000e+00])"
      ]
     },
     "execution_count": 5,
     "metadata": {},
     "output_type": "execute_result"
    }
   ],
   "source": [
    "fit[\"lambdau\"]"
   ]
  },
  {
   "cell_type": "code",
   "execution_count": null,
   "metadata": {
    "collapsed": true
   },
   "outputs": [],
   "source": []
  }
 ],
 "metadata": {
  "kernelspec": {
   "display_name": "Python 3",
   "language": "python",
   "name": "python3"
  },
  "language_info": {
   "codemirror_mode": {
    "name": "ipython",
    "version": 3
   },
   "file_extension": ".py",
   "mimetype": "text/x-python",
   "name": "python",
   "nbconvert_exporter": "python",
   "pygments_lexer": "ipython3",
   "version": "3.4.5"
  }
 },
 "nbformat": 4,
 "nbformat_minor": 0
}
